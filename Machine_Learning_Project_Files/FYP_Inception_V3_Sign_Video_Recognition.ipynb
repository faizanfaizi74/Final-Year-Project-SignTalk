{
  "cells": [
    {
      "cell_type": "markdown",
      "metadata": {
        "id": "07ZAtJ4wUOEI"
      },
      "source": [
        "## Library Imports"
      ]
    },
    {
      "cell_type": "code",
      "execution_count": null,
      "metadata": {
        "id": "XEWGQmw-gmmx"
      },
      "outputs": [],
      "source": [
        "import tensorflow as tf\n",
        "import tensorflow_hub as hub\n",
        "import random\n",
        "import ssl\n",
        "import cv2\n",
        "import numpy as np\n",
        "import imageio\n",
        "from IPython import display\n",
        "from urllib import request\n",
        "import re\n",
        "import tempfile\n",
        "import pandas as pd\n",
        "from keras import backend as K\n",
        "import sys\n",
        "import csv\n",
        "import os\n",
        "import math\n",
        "from collections import deque\n",
        "import matplotlib.pyplot as plt\n",
        "%matplotlib inline\n",
        "from sklearn.model_selection import train_test_split\n",
        "from tensorflow import keras\n",
        "from tensorflow.keras.layers import *\n",
        "from tensorflow.keras.models import Sequential\n",
        "from keras.layers import Dense, InputLayer, Dropout, Flatten\n",
        "from keras.layers import Conv2D, MaxPooling2D, GlobalMaxPooling2D\n",
        "\n",
        "from keras.layers import LSTM\n",
        "from keras.layers.convolutional import Conv1D\n",
        "from keras.layers.convolutional import MaxPooling1D\n",
        "\n",
        "from tensorflow.keras.utils import to_categorical\n",
        "from tensorflow.keras.callbacks import EarlyStopping\n",
        "from tensorflow.keras.utils import plot_model\n",
        "from tensorflow.keras.models import Model\n",
        "from tensorflow.keras.applications import ResNet50, InceptionResNetV2\n",
        "from google.colab import drive\n",
        "import gc"
      ]
    },
    {
      "cell_type": "code",
      "execution_count": null,
      "metadata": {
        "id": "2QNtosDMaj35",
        "colab": {
          "base_uri": "https://localhost:8080/"
        },
        "outputId": "d0dd79b0-32f1-4772-f458-71a4a4055632"
      },
      "outputs": [
        {
          "output_type": "stream",
          "name": "stdout",
          "text": [
            "  Building wheel for tensorflow-docs (setup.py) ... \u001b[?25l\u001b[?25hdone\n"
          ]
        }
      ],
      "source": [
        "!pip install -q git+https://github.com/tensorflow/docs"
      ]
    },
    {
      "cell_type": "code",
      "execution_count": null,
      "metadata": {
        "colab": {
          "base_uri": "https://localhost:8080/"
        },
        "id": "abU8MJxzgxCv",
        "outputId": "040b24c6-5778-4a4c-a98a-4df0d36d2bc3"
      },
      "outputs": [
        {
          "output_type": "stream",
          "name": "stdout",
          "text": [
            "Mounted at /content/gdrive\n"
          ]
        }
      ],
      "source": [
        "#importing google drive in google colab\n",
        "drive.mount('/content/gdrive')"
      ]
    },
    {
      "cell_type": "markdown",
      "metadata": {
        "id": "uwQcmVJOft0I"
      },
      "source": [
        "## Define root paths accordingly\n"
      ]
    },
    {
      "cell_type": "code",
      "execution_count": null,
      "metadata": {
        "id": "23zVEHeTxcK_"
      },
      "outputs": [],
      "source": [
        "data_root = '/content/gdrive/MyDrive/sign_videos_sample_a_6'\n",
        "folder_root = '/content/'"
      ]
    },
    {
      "cell_type": "markdown",
      "metadata": {
        "id": "_d-IHs8QURbf"
      },
      "source": [
        "## Mount drive"
      ]
    },
    {
      "cell_type": "code",
      "execution_count": null,
      "metadata": {
        "colab": {
          "base_uri": "https://localhost:8080/"
        },
        "id": "-l6qQaJux4Ld",
        "outputId": "fd7fd008-8cdb-4f19-b1dd-ef8c76b0ebc2"
      },
      "outputs": [
        {
          "output_type": "execute_result",
          "data": {
            "text/plain": [
              "218"
            ]
          },
          "metadata": {},
          "execution_count": 6
        }
      ],
      "source": [
        "gc.collect()"
      ]
    },
    {
      "cell_type": "markdown",
      "metadata": {
        "id": "9W2jiz2lZpml"
      },
      "source": [
        "# CSV creation\n",
        "\n",
        "* Mention required video classnames\n",
        "* CSV columns structure\n",
        "  * Video path -> Class index (from 0 to 4 here, as we have five classes)"
      ]
    },
    {
      "cell_type": "code",
      "execution_count": null,
      "metadata": {
        "colab": {
          "base_uri": "https://localhost:8080/",
          "height": 35
        },
        "id": "J_UokD3Yra_A",
        "outputId": "a81809bc-feda-4b35-ea16-4fb64db1d5ff"
      },
      "outputs": [
        {
          "output_type": "display_data",
          "data": {
            "text/plain": [
              "<Figure size 1440x1440 with 0 Axes>"
            ]
          },
          "metadata": {}
        }
      ],
      "source": [
        "#creating the Matplotlib figure and specify the size of the figure\n",
        "plt.figure(figsize=(20,20))\n",
        "\n",
        "classes = ['call_the_ambulance','i_am_a_student','i_can_not_speak', 'how_are_you', \"i_don't_understand\", 'extra_class'] # 5 a, 5 b\n",
        "\n",
        "\n",
        "with open(folder_root+'dataset.csv', 'w', newline='') as file:\n",
        "  writer = csv.writer(file)\n",
        "  for c in classes:\n",
        "    path = os.path.join(data_root, c+\"/\")\n",
        "    for i in os.listdir(path):\n",
        "      writer.writerow([classes.index(c), os.path.join(path, i)])"
      ]
    },
    {
      "cell_type": "markdown",
      "metadata": {
        "id": "_3fTo8eDZwZD"
      },
      "source": [
        "## Shuffling csv data\n"
      ]
    },
    {
      "cell_type": "code",
      "execution_count": null,
      "metadata": {
        "id": "NrokWb-jtvDD"
      },
      "outputs": [],
      "source": [
        "# shuffle the data in csv\n",
        "df = pd.read_csv(folder_root+'dataset.csv')\n",
        "ds = df.sample(frac=1)\n",
        "ds.to_csv(folder_root+'dataset.csv', index=False)"
      ]
    },
    {
      "cell_type": "code",
      "execution_count": null,
      "metadata": {
        "id": "Bsnoc1dGuJ2U"
      },
      "outputs": [],
      "source": [
        "# split the data into train and test\n",
        "\n",
        "import numpy as np\n",
        "df = pd.read_csv(folder_root+'dataset.csv', header=None)\n",
        "df.columns = [\"class\", \"path\"]\n",
        "df = df.astype({\"class\": str})\n",
        "train, test = np.split(df.sample(frac=1, random_state=42), [int(.8*len(df))])"
      ]
    },
    {
      "cell_type": "markdown",
      "metadata": {
        "id": "cqv2Gwq_l55E"
      },
      "source": [
        "## Defining hyperparameters\n",
        "* batch size\n",
        "* epochs\n",
        "* max sequence length\n",
        "* number of features\n",
        "* image size"
      ]
    },
    {
      "cell_type": "code",
      "execution_count": null,
      "metadata": {
        "id": "KBWyo_tAupsp"
      },
      "outputs": [],
      "source": [
        "IMG_SIZE = 224\n",
        "BATCH_SIZE = 256\n",
        "EPOCHS = 100\n",
        "MAX_SEQ_LENGTH = 100\n",
        "NUM_FEATURES = 2048"
      ]
    },
    {
      "cell_type": "markdown",
      "metadata": {
        "id": "9ICiS4LsmK6R"
      },
      "source": [
        "Count of training and test videos :"
      ]
    },
    {
      "cell_type": "code",
      "execution_count": null,
      "metadata": {
        "colab": {
          "base_uri": "https://localhost:8080/",
          "height": 400
        },
        "id": "4giyPQcOurLb",
        "outputId": "b21706c9-c505-43e3-ae10-11f60fc0a0e1"
      },
      "outputs": [
        {
          "output_type": "stream",
          "name": "stdout",
          "text": [
            "Total videos for training: 371\n",
            "Total videos for testing: 93\n"
          ]
        },
        {
          "output_type": "execute_result",
          "data": {
            "text/plain": [
              "    class                                               path\n",
              "79      4  /content/gdrive/MyDrive/sign_videos_sample_a_6...\n",
              "362     4  /content/gdrive/MyDrive/sign_videos_sample_a_6...\n",
              "162     0  /content/gdrive/MyDrive/sign_videos_sample_a_6...\n",
              "68      5  /content/gdrive/MyDrive/sign_videos_sample_a_6...\n",
              "194     5  /content/gdrive/MyDrive/sign_videos_sample_a_6...\n",
              "227     5  /content/gdrive/MyDrive/sign_videos_sample_a_6...\n",
              "157     4  /content/gdrive/MyDrive/sign_videos_sample_a_6...\n",
              "107     2  /content/gdrive/MyDrive/sign_videos_sample_a_6...\n",
              "0       0  /content/gdrive/MyDrive/sign_videos_sample_a_6...\n",
              "101     4  /content/gdrive/MyDrive/sign_videos_sample_a_6..."
            ],
            "text/html": [
              "\n",
              "  <div id=\"df-d8ec1eea-b6ed-4d8a-a387-62489108ec6a\">\n",
              "    <div class=\"colab-df-container\">\n",
              "      <div>\n",
              "<style scoped>\n",
              "    .dataframe tbody tr th:only-of-type {\n",
              "        vertical-align: middle;\n",
              "    }\n",
              "\n",
              "    .dataframe tbody tr th {\n",
              "        vertical-align: top;\n",
              "    }\n",
              "\n",
              "    .dataframe thead th {\n",
              "        text-align: right;\n",
              "    }\n",
              "</style>\n",
              "<table border=\"1\" class=\"dataframe\">\n",
              "  <thead>\n",
              "    <tr style=\"text-align: right;\">\n",
              "      <th></th>\n",
              "      <th>class</th>\n",
              "      <th>path</th>\n",
              "    </tr>\n",
              "  </thead>\n",
              "  <tbody>\n",
              "    <tr>\n",
              "      <th>79</th>\n",
              "      <td>4</td>\n",
              "      <td>/content/gdrive/MyDrive/sign_videos_sample_a_6...</td>\n",
              "    </tr>\n",
              "    <tr>\n",
              "      <th>362</th>\n",
              "      <td>4</td>\n",
              "      <td>/content/gdrive/MyDrive/sign_videos_sample_a_6...</td>\n",
              "    </tr>\n",
              "    <tr>\n",
              "      <th>162</th>\n",
              "      <td>0</td>\n",
              "      <td>/content/gdrive/MyDrive/sign_videos_sample_a_6...</td>\n",
              "    </tr>\n",
              "    <tr>\n",
              "      <th>68</th>\n",
              "      <td>5</td>\n",
              "      <td>/content/gdrive/MyDrive/sign_videos_sample_a_6...</td>\n",
              "    </tr>\n",
              "    <tr>\n",
              "      <th>194</th>\n",
              "      <td>5</td>\n",
              "      <td>/content/gdrive/MyDrive/sign_videos_sample_a_6...</td>\n",
              "    </tr>\n",
              "    <tr>\n",
              "      <th>227</th>\n",
              "      <td>5</td>\n",
              "      <td>/content/gdrive/MyDrive/sign_videos_sample_a_6...</td>\n",
              "    </tr>\n",
              "    <tr>\n",
              "      <th>157</th>\n",
              "      <td>4</td>\n",
              "      <td>/content/gdrive/MyDrive/sign_videos_sample_a_6...</td>\n",
              "    </tr>\n",
              "    <tr>\n",
              "      <th>107</th>\n",
              "      <td>2</td>\n",
              "      <td>/content/gdrive/MyDrive/sign_videos_sample_a_6...</td>\n",
              "    </tr>\n",
              "    <tr>\n",
              "      <th>0</th>\n",
              "      <td>0</td>\n",
              "      <td>/content/gdrive/MyDrive/sign_videos_sample_a_6...</td>\n",
              "    </tr>\n",
              "    <tr>\n",
              "      <th>101</th>\n",
              "      <td>4</td>\n",
              "      <td>/content/gdrive/MyDrive/sign_videos_sample_a_6...</td>\n",
              "    </tr>\n",
              "  </tbody>\n",
              "</table>\n",
              "</div>\n",
              "      <button class=\"colab-df-convert\" onclick=\"convertToInteractive('df-d8ec1eea-b6ed-4d8a-a387-62489108ec6a')\"\n",
              "              title=\"Convert this dataframe to an interactive table.\"\n",
              "              style=\"display:none;\">\n",
              "        \n",
              "  <svg xmlns=\"http://www.w3.org/2000/svg\" height=\"24px\"viewBox=\"0 0 24 24\"\n",
              "       width=\"24px\">\n",
              "    <path d=\"M0 0h24v24H0V0z\" fill=\"none\"/>\n",
              "    <path d=\"M18.56 5.44l.94 2.06.94-2.06 2.06-.94-2.06-.94-.94-2.06-.94 2.06-2.06.94zm-11 1L8.5 8.5l.94-2.06 2.06-.94-2.06-.94L8.5 2.5l-.94 2.06-2.06.94zm10 10l.94 2.06.94-2.06 2.06-.94-2.06-.94-.94-2.06-.94 2.06-2.06.94z\"/><path d=\"M17.41 7.96l-1.37-1.37c-.4-.4-.92-.59-1.43-.59-.52 0-1.04.2-1.43.59L10.3 9.45l-7.72 7.72c-.78.78-.78 2.05 0 2.83L4 21.41c.39.39.9.59 1.41.59.51 0 1.02-.2 1.41-.59l7.78-7.78 2.81-2.81c.8-.78.8-2.07 0-2.86zM5.41 20L4 18.59l7.72-7.72 1.47 1.35L5.41 20z\"/>\n",
              "  </svg>\n",
              "      </button>\n",
              "      \n",
              "  <style>\n",
              "    .colab-df-container {\n",
              "      display:flex;\n",
              "      flex-wrap:wrap;\n",
              "      gap: 12px;\n",
              "    }\n",
              "\n",
              "    .colab-df-convert {\n",
              "      background-color: #E8F0FE;\n",
              "      border: none;\n",
              "      border-radius: 50%;\n",
              "      cursor: pointer;\n",
              "      display: none;\n",
              "      fill: #1967D2;\n",
              "      height: 32px;\n",
              "      padding: 0 0 0 0;\n",
              "      width: 32px;\n",
              "    }\n",
              "\n",
              "    .colab-df-convert:hover {\n",
              "      background-color: #E2EBFA;\n",
              "      box-shadow: 0px 1px 2px rgba(60, 64, 67, 0.3), 0px 1px 3px 1px rgba(60, 64, 67, 0.15);\n",
              "      fill: #174EA6;\n",
              "    }\n",
              "\n",
              "    [theme=dark] .colab-df-convert {\n",
              "      background-color: #3B4455;\n",
              "      fill: #D2E3FC;\n",
              "    }\n",
              "\n",
              "    [theme=dark] .colab-df-convert:hover {\n",
              "      background-color: #434B5C;\n",
              "      box-shadow: 0px 1px 3px 1px rgba(0, 0, 0, 0.15);\n",
              "      filter: drop-shadow(0px 1px 2px rgba(0, 0, 0, 0.3));\n",
              "      fill: #FFFFFF;\n",
              "    }\n",
              "  </style>\n",
              "\n",
              "      <script>\n",
              "        const buttonEl =\n",
              "          document.querySelector('#df-d8ec1eea-b6ed-4d8a-a387-62489108ec6a button.colab-df-convert');\n",
              "        buttonEl.style.display =\n",
              "          google.colab.kernel.accessAllowed ? 'block' : 'none';\n",
              "\n",
              "        async function convertToInteractive(key) {\n",
              "          const element = document.querySelector('#df-d8ec1eea-b6ed-4d8a-a387-62489108ec6a');\n",
              "          const dataTable =\n",
              "            await google.colab.kernel.invokeFunction('convertToInteractive',\n",
              "                                                     [key], {});\n",
              "          if (!dataTable) return;\n",
              "\n",
              "          const docLinkHtml = 'Like what you see? Visit the ' +\n",
              "            '<a target=\"_blank\" href=https://colab.research.google.com/notebooks/data_table.ipynb>data table notebook</a>'\n",
              "            + ' to learn more about interactive tables.';\n",
              "          element.innerHTML = '';\n",
              "          dataTable['output_type'] = 'display_data';\n",
              "          await google.colab.output.renderOutput(dataTable, element);\n",
              "          const docLink = document.createElement('div');\n",
              "          docLink.innerHTML = docLinkHtml;\n",
              "          element.appendChild(docLink);\n",
              "        }\n",
              "      </script>\n",
              "    </div>\n",
              "  </div>\n",
              "  "
            ]
          },
          "metadata": {},
          "execution_count": 11
        }
      ],
      "source": [
        "train_df = train\n",
        "test_df = test\n",
        "\n",
        "print(f\"Total videos for training: {len(train_df)}\")\n",
        "print(f\"Total videos for testing: {len(test_df)}\")\n",
        "\n",
        "train_df.sample(10)"
      ]
    },
    {
      "cell_type": "markdown",
      "metadata": {
        "id": "u7hvHVkEafMa"
      },
      "source": [
        "# UTIL functions from HB hub video classification tutorials\n",
        "\n",
        "TF Hub has several resources for video classification which have been extremely helpful. Some of the utilty functions have been used here.\n",
        "\n"
      ]
    },
    {
      "cell_type": "code",
      "execution_count": null,
      "metadata": {
        "id": "is1hWyBfvOi5"
      },
      "outputs": [],
      "source": [
        "def crop_center_square(frame):\n",
        "    y, x = frame.shape[0:2]\n",
        "    min_dim = min(y, x)\n",
        "    start_x = (x // 2) - (min_dim // 2)\n",
        "    start_y = (y // 2) - (min_dim // 2)\n",
        "    return frame[start_y : start_y + min_dim, start_x : start_x + min_dim]\n",
        "    \n",
        "def load_video(path, max_frames=0, resize=(IMG_SIZE, IMG_SIZE)):\n",
        "  \n",
        "    cap = cv2.VideoCapture(path)\n",
        "    cap.set(cv2.CAP_PROP_POS_MSEC, 500)\n",
        "    frames = []\n",
        "    j = 0\n",
        "    try:\n",
        "        while True:\n",
        "            ret, frame = cap.read()\n",
        "            if not ret:\n",
        "                break\n",
        "            #frame = crop_center_square(frame)\n",
        "            frame = cv2.resize(frame, resize)\n",
        "            frame = frame[:, :, [2, 1, 0]]    #BRG for cv2\n",
        "            frames.append(frame)\n",
        "            #cv2.imwrite(\"/content/frameimg\"+str(j)+\".jpg\", frame)\n",
        "\n",
        "            if len(frames) == max_frames:\n",
        "                break\n",
        "    finally:\n",
        "        cap.release()\n",
        "    return np.array(frames)"
      ]
    },
    {
      "cell_type": "code",
      "execution_count": null,
      "metadata": {
        "colab": {
          "base_uri": "https://localhost:8080/"
        },
        "id": "GpqvTPE4vgA_",
        "outputId": "8c2733f7-5ce0-4df9-b430-f9d139c9fbb1"
      },
      "outputs": [
        {
          "output_type": "stream",
          "name": "stdout",
          "text": [
            "Downloading data from https://storage.googleapis.com/tensorflow/keras-applications/inception_v3/inception_v3_weights_tf_dim_ordering_tf_kernels_notop.h5\n",
            "87916544/87910968 [==============================] - 1s 0us/step\n",
            "87924736/87910968 [==============================] - 1s 0us/step\n"
          ]
        }
      ],
      "source": [
        "def build_feature_extractor():\n",
        "    feature_extractor = keras.applications.InceptionV3(\n",
        "        weights=\"imagenet\",\n",
        "        include_top=False,\n",
        "        pooling=\"avg\",\n",
        "        input_shape=(IMG_SIZE, IMG_SIZE, 3),\n",
        "    )\n",
        "    preprocess_input = keras.applications.inception_v3.preprocess_input\n",
        "\n",
        "    inputs = keras.Input((IMG_SIZE, IMG_SIZE, 3))\n",
        "    preprocessed = preprocess_input(inputs)\n",
        "\n",
        "    outputs = feature_extractor(preprocessed)\n",
        "    return keras.Model(inputs, outputs, name=\"feature_extractor\")\n",
        "\n",
        "\n",
        "feature_extractor = build_feature_extractor()"
      ]
    },
    {
      "cell_type": "code",
      "execution_count": null,
      "metadata": {
        "colab": {
          "base_uri": "https://localhost:8080/"
        },
        "id": "jQPJfufovk8r",
        "outputId": "f12fa8e3-1025-4bc9-a688-3b9173749ec7"
      },
      "outputs": [
        {
          "output_type": "stream",
          "name": "stdout",
          "text": [
            "['0', '1', '2', '3', '4', '5']\n"
          ]
        }
      ],
      "source": [
        "label_processor = keras.layers.experimental.preprocessing.StringLookup(\n",
        "    num_oov_indices=0, vocabulary=np.unique(train_df[\"class\"])\n",
        ")\n",
        "print(label_processor.get_vocabulary())"
      ]
    },
    {
      "cell_type": "code",
      "execution_count": null,
      "metadata": {
        "id": "UcgMOGgWuvjr"
      },
      "outputs": [],
      "source": [
        "class_vocab = label_processor.get_vocabulary()"
      ]
    },
    {
      "cell_type": "code",
      "execution_count": null,
      "metadata": {
        "colab": {
          "base_uri": "https://localhost:8080/"
        },
        "id": "_qA7F6qV4QcI",
        "outputId": "81bfcfb8-8d64-4c34-a61d-3fb020e3606e"
      },
      "outputs": [
        {
          "output_type": "execute_result",
          "data": {
            "text/plain": [
              "12786"
            ]
          },
          "metadata": {},
          "execution_count": 16
        }
      ],
      "source": [
        "gc.collect()"
      ]
    },
    {
      "cell_type": "markdown",
      "metadata": {
        "id": "pVYdjJ5ZkjE_"
      },
      "source": [
        "# Dataset Preprocessing\n"
      ]
    },
    {
      "cell_type": "code",
      "execution_count": null,
      "metadata": {
        "id": "kwHNNowsv3gT"
      },
      "outputs": [],
      "source": [
        "def prepare_all_videos(df):\n",
        "    num_samples = len(df)\n",
        "    video_paths = df[\"path\"].values.tolist()\n",
        "    labels = df[\"class\"].values\n",
        "    labels = label_processor(labels[..., None]).numpy()\n",
        "\n",
        "    # `frame_masks` and `frame_features` are what we will feed to our sequence model.\n",
        "    # `frame_masks` will contain a bunch of booleans denoting if a timestep is\n",
        "    # masked with padding or not.\n",
        "    frame_masks = np.zeros(shape=(num_samples, MAX_SEQ_LENGTH), dtype=\"bool\")\n",
        "    frame_features = np.zeros(\n",
        "        shape=(num_samples, MAX_SEQ_LENGTH, NUM_FEATURES), dtype=\"float32\"\n",
        "    )\n",
        "\n",
        "    # For each video.\n",
        "    for idx,path in enumerate(video_paths):\n",
        "        # Gather all its frames and add a batch dimension.hike intern\n",
        "        #path = video_paths[idx]\n",
        "        frames = load_video(path)\n",
        "        frames = frames[None, ...]\n",
        "\n",
        "        # final_frames = np.append(train_frames, frames) # farmes has 5 dimensions error\n",
        "\n",
        "        gc.collect()\n",
        "        # Initialize placeholders to store the masks and features of the current video.\n",
        "        temp_frame_mask = np.zeros(shape=(1, MAX_SEQ_LENGTH,), dtype=\"bool\")\n",
        "        temp_frame_featutes = np.zeros(\n",
        "            shape=(1, MAX_SEQ_LENGTH, NUM_FEATURES), dtype=\"float32\"\n",
        "        )\n",
        "\n",
        "        # Extract features from the frames of the current video.\n",
        "        for i, batch in enumerate(frames):\n",
        "            try:\n",
        "              video_length = batch.shape[1]\n",
        "              length = min(MAX_SEQ_LENGTH, video_length)\n",
        "              for j in range(length):\n",
        "                temp_frame_featutes[i, j, :] = feature_extractor.predict(\n",
        "                    batch[None, j, :]\n",
        "                )\n",
        "              temp_frame_mask[i, :length] = 1  # 1 = not masked, 0 = masked\n",
        "              frame_features[idx,] = temp_frame_featutes.squeeze()\n",
        "              frame_masks[idx,] = temp_frame_mask.squeeze()\n",
        "            except:\n",
        "              pass\n",
        "\n",
        "        gc.collect()\n",
        "        print(idx)\n",
        "\n",
        "    return (frame_features, frame_masks), labels\n",
        "\n",
        "gc.collect()\n",
        "\n",
        "train_data, train_labels = prepare_all_videos(train_df)"
      ]
    },
    {
      "cell_type": "code",
      "execution_count": null,
      "metadata": {
        "colab": {
          "base_uri": "https://localhost:8080/"
        },
        "id": "9KeSKeqt7jtU",
        "outputId": "f6c0a541-4ac3-40f4-a2cc-3353b0090f44"
      },
      "outputs": [
        {
          "output_type": "stream",
          "name": "stdout",
          "text": [
            "Frame features in train set: (371, 100, 2048)\n",
            "Frame masks in train set: (371, 100)\n"
          ]
        }
      ],
      "source": [
        "print(f\"Frame features in train set: {train_data[0].shape}\")\n",
        "print(f\"Frame masks in train set: {train_data[1].shape}\")"
      ]
    },
    {
      "cell_type": "code",
      "execution_count": null,
      "metadata": {
        "id": "OWVF0VUc67DJ"
      },
      "outputs": [],
      "source": [
        "# print(train_frames.shape)\n",
        "# print(len(train_frames))  "
      ]
    },
    {
      "cell_type": "code",
      "execution_count": null,
      "metadata": {
        "id": "W0nqrSos9w56"
      },
      "outputs": [],
      "source": [
        "# print(\"Lables Shape: \", train_labels.shape)\n",
        "# print(\"Frames Shape: \", train_frames.shape)"
      ]
    },
    {
      "cell_type": "code",
      "execution_count": null,
      "metadata": {
        "colab": {
          "base_uri": "https://localhost:8080/"
        },
        "id": "u8_-r7icJeLb",
        "outputId": "3392a63e-f4d2-4a8a-fd41-1add7400d748"
      },
      "outputs": [
        {
          "output_type": "execute_result",
          "data": {
            "text/plain": [
              "200"
            ]
          },
          "metadata": {},
          "execution_count": 21
        }
      ],
      "source": [
        "gc.collect()"
      ]
    },
    {
      "cell_type": "markdown",
      "metadata": {
        "id": "yWj6tZYaZ-EE"
      },
      "source": [
        "Preparing test data :\n"
      ]
    },
    {
      "cell_type": "code",
      "execution_count": null,
      "metadata": {
        "id": "1jTXvkh67xqI"
      },
      "outputs": [],
      "source": [
        "test_data, test_labels = prepare_all_videos(test_df)"
      ]
    },
    {
      "cell_type": "code",
      "execution_count": null,
      "metadata": {
        "colab": {
          "base_uri": "https://localhost:8080/"
        },
        "id": "YcLnt5X97oQj",
        "outputId": "c73ff92f-886f-4532-f458-cee6cfd8f9ce"
      },
      "outputs": [
        {
          "output_type": "stream",
          "name": "stdout",
          "text": [
            "Frame features in train set: (93, 100, 2048)\n",
            "Frame masks in train set: (93, 100)\n"
          ]
        }
      ],
      "source": [
        "print(f\"Frame features in train set: {test_data[0].shape}\")\n",
        "print(f\"Frame masks in train set: {test_data[1].shape}\")"
      ]
    },
    {
      "cell_type": "code",
      "execution_count": null,
      "metadata": {
        "id": "AQOQPio8wDJw"
      },
      "outputs": [],
      "source": [
        "# Utility for our sequence model.\n",
        "def get_sequence_model():\n",
        "    class_vocab = label_processor.get_vocabulary()\n",
        "\n",
        "    frame_features_input = keras.Input((MAX_SEQ_LENGTH, NUM_FEATURES))\n",
        "    mask_input = keras.Input((MAX_SEQ_LENGTH,), dtype=\"bool\")\n",
        "\n",
        "    # Refer to the following tutorial to understand the significance of using `mask`:\n",
        "    # https://keras.io/api/layers/recurrent_layers/gru/\n",
        "    x = keras.layers.GRU(16, return_sequences=True, go_backwards=True)(\n",
        "        frame_features_input, mask=mask_input\n",
        "    )\n",
        "    x = keras.layers.GRU(8)(x)\n",
        "    x = keras.layers.Dropout(0.25)(x)\n",
        "\n",
        "    x = keras.layers.Dense(8, activation=\"relu\")(x)\n",
        "    output = keras.layers.Dense(len(class_vocab), activation=\"softmax\")(x)\n",
        "\n",
        "    rnn_model = keras.Model([frame_features_input, mask_input], output)\n",
        "    \n",
        "    opt = keras.optimizers.Adam(learning_rate=0.001)\n",
        "\n",
        "    rnn_model.compile(\n",
        "        loss=\"sparse_categorical_crossentropy\", optimizer=opt, metrics=[\"accuracy\"]\n",
        "    )\n",
        "    return rnn_model"
      ]
    },
    {
      "cell_type": "markdown",
      "metadata": {
        "id": "BdkTOyrKbZOo"
      },
      "source": [
        "# Model Training"
      ]
    },
    {
      "cell_type": "code",
      "execution_count": null,
      "metadata": {
        "colab": {
          "base_uri": "https://localhost:8080/"
        },
        "id": "XD7aduXJwUUq",
        "outputId": "4c5e9d74-d9cb-4fe6-c42c-9395cfa5bc72"
      },
      "outputs": [
        {
          "output_type": "stream",
          "name": "stdout",
          "text": [
            "Epoch 1/100\n",
            "9/9 [==============================] - ETA: 0s - loss: 1.7728 - accuracy: 0.2086\n",
            "Epoch 1: val_loss improved from inf to 1.71029, saving model to /tmp/video_classifier\n",
            "9/9 [==============================] - 17s 949ms/step - loss: 1.7728 - accuracy: 0.2086 - val_loss: 1.7103 - val_accuracy: 0.3978\n",
            "Epoch 2/100\n",
            "9/9 [==============================] - ETA: 0s - loss: 1.6543 - accuracy: 0.4388\n",
            "Epoch 2: val_loss improved from 1.71029 to 1.61591, saving model to /tmp/video_classifier\n",
            "9/9 [==============================] - 6s 618ms/step - loss: 1.6543 - accuracy: 0.4388 - val_loss: 1.6159 - val_accuracy: 0.5161\n",
            "Epoch 3/100\n",
            "9/9 [==============================] - ETA: 0s - loss: 1.5860 - accuracy: 0.4928\n",
            "Epoch 3: val_loss improved from 1.61591 to 1.60061, saving model to /tmp/video_classifier\n",
            "9/9 [==============================] - 5s 613ms/step - loss: 1.5860 - accuracy: 0.4928 - val_loss: 1.6006 - val_accuracy: 0.5376\n",
            "Epoch 4/100\n",
            "9/9 [==============================] - ETA: 0s - loss: 1.5620 - accuracy: 0.5252\n",
            "Epoch 4: val_loss improved from 1.60061 to 1.55835, saving model to /tmp/video_classifier\n",
            "9/9 [==============================] - 5s 612ms/step - loss: 1.5620 - accuracy: 0.5252 - val_loss: 1.5583 - val_accuracy: 0.5054\n",
            "Epoch 5/100\n",
            "9/9 [==============================] - ETA: 0s - loss: 1.5043 - accuracy: 0.5647\n",
            "Epoch 5: val_loss improved from 1.55835 to 1.54813, saving model to /tmp/video_classifier\n",
            "9/9 [==============================] - 5s 610ms/step - loss: 1.5043 - accuracy: 0.5647 - val_loss: 1.5481 - val_accuracy: 0.5376\n",
            "Epoch 6/100\n",
            "9/9 [==============================] - ETA: 0s - loss: 1.4896 - accuracy: 0.5647\n",
            "Epoch 6: val_loss improved from 1.54813 to 1.53351, saving model to /tmp/video_classifier\n",
            "9/9 [==============================] - 5s 611ms/step - loss: 1.4896 - accuracy: 0.5647 - val_loss: 1.5335 - val_accuracy: 0.5376\n",
            "Epoch 7/100\n",
            "9/9 [==============================] - ETA: 0s - loss: 1.4406 - accuracy: 0.5612\n",
            "Epoch 7: val_loss improved from 1.53351 to 1.50982, saving model to /tmp/video_classifier\n",
            "9/9 [==============================] - 6s 615ms/step - loss: 1.4406 - accuracy: 0.5612 - val_loss: 1.5098 - val_accuracy: 0.5376\n",
            "Epoch 8/100\n",
            "9/9 [==============================] - ETA: 0s - loss: 1.4232 - accuracy: 0.5719\n",
            "Epoch 8: val_loss improved from 1.50982 to 1.48405, saving model to /tmp/video_classifier\n",
            "9/9 [==============================] - 6s 711ms/step - loss: 1.4232 - accuracy: 0.5719 - val_loss: 1.4841 - val_accuracy: 0.5484\n",
            "Epoch 9/100\n",
            "9/9 [==============================] - ETA: 0s - loss: 1.4101 - accuracy: 0.5755\n",
            "Epoch 9: val_loss improved from 1.48405 to 1.47266, saving model to /tmp/video_classifier\n",
            "9/9 [==============================] - 5s 610ms/step - loss: 1.4101 - accuracy: 0.5755 - val_loss: 1.4727 - val_accuracy: 0.5269\n",
            "Epoch 10/100\n",
            "9/9 [==============================] - ETA: 0s - loss: 1.3833 - accuracy: 0.5791\n",
            "Epoch 10: val_loss improved from 1.47266 to 1.45173, saving model to /tmp/video_classifier\n",
            "9/9 [==============================] - 6s 617ms/step - loss: 1.3833 - accuracy: 0.5791 - val_loss: 1.4517 - val_accuracy: 0.5591\n",
            "Epoch 11/100\n",
            "9/9 [==============================] - ETA: 0s - loss: 1.3401 - accuracy: 0.5719\n",
            "Epoch 11: val_loss improved from 1.45173 to 1.43603, saving model to /tmp/video_classifier\n",
            "9/9 [==============================] - 6s 614ms/step - loss: 1.3401 - accuracy: 0.5719 - val_loss: 1.4360 - val_accuracy: 0.5591\n",
            "Epoch 12/100\n",
            "9/9 [==============================] - ETA: 0s - loss: 1.3319 - accuracy: 0.6079\n",
            "Epoch 12: val_loss improved from 1.43603 to 1.39336, saving model to /tmp/video_classifier\n",
            "9/9 [==============================] - 5s 614ms/step - loss: 1.3319 - accuracy: 0.6079 - val_loss: 1.3934 - val_accuracy: 0.5484\n",
            "Epoch 13/100\n",
            "9/9 [==============================] - ETA: 0s - loss: 1.2849 - accuracy: 0.6151\n",
            "Epoch 13: val_loss did not improve from 1.39336\n",
            "9/9 [==============================] - 5s 606ms/step - loss: 1.2849 - accuracy: 0.6151 - val_loss: 1.4042 - val_accuracy: 0.6129\n",
            "Epoch 14/100\n",
            "9/9 [==============================] - ETA: 0s - loss: 1.2624 - accuracy: 0.6151\n",
            "Epoch 14: val_loss improved from 1.39336 to 1.35768, saving model to /tmp/video_classifier\n",
            "9/9 [==============================] - 5s 611ms/step - loss: 1.2624 - accuracy: 0.6151 - val_loss: 1.3577 - val_accuracy: 0.5699\n",
            "Epoch 15/100\n",
            "9/9 [==============================] - ETA: 0s - loss: 1.2292 - accuracy: 0.6331\n",
            "Epoch 15: val_loss did not improve from 1.35768\n",
            "9/9 [==============================] - 5s 604ms/step - loss: 1.2292 - accuracy: 0.6331 - val_loss: 1.3822 - val_accuracy: 0.5699\n",
            "Epoch 16/100\n",
            "9/9 [==============================] - ETA: 0s - loss: 1.1849 - accuracy: 0.6691\n",
            "Epoch 16: val_loss improved from 1.35768 to 1.32005, saving model to /tmp/video_classifier\n",
            "9/9 [==============================] - 5s 612ms/step - loss: 1.1849 - accuracy: 0.6691 - val_loss: 1.3200 - val_accuracy: 0.6559\n",
            "Epoch 17/100\n",
            "9/9 [==============================] - ETA: 0s - loss: 1.1752 - accuracy: 0.6547\n",
            "Epoch 17: val_loss improved from 1.32005 to 1.31041, saving model to /tmp/video_classifier\n",
            "9/9 [==============================] - 5s 612ms/step - loss: 1.1752 - accuracy: 0.6547 - val_loss: 1.3104 - val_accuracy: 0.6452\n",
            "Epoch 18/100\n",
            "9/9 [==============================] - ETA: 0s - loss: 1.1584 - accuracy: 0.6511\n",
            "Epoch 18: val_loss improved from 1.31041 to 1.26209, saving model to /tmp/video_classifier\n",
            "9/9 [==============================] - 5s 609ms/step - loss: 1.1584 - accuracy: 0.6511 - val_loss: 1.2621 - val_accuracy: 0.6667\n",
            "Epoch 19/100\n",
            "9/9 [==============================] - ETA: 0s - loss: 1.1234 - accuracy: 0.6978\n",
            "Epoch 19: val_loss improved from 1.26209 to 1.24740, saving model to /tmp/video_classifier\n",
            "9/9 [==============================] - 6s 623ms/step - loss: 1.1234 - accuracy: 0.6978 - val_loss: 1.2474 - val_accuracy: 0.6344\n",
            "Epoch 20/100\n",
            "9/9 [==============================] - ETA: 0s - loss: 1.0868 - accuracy: 0.6655\n",
            "Epoch 20: val_loss did not improve from 1.24740\n",
            "9/9 [==============================] - 5s 612ms/step - loss: 1.0868 - accuracy: 0.6655 - val_loss: 1.2702 - val_accuracy: 0.6344\n",
            "Epoch 21/100\n",
            "9/9 [==============================] - ETA: 0s - loss: 1.0585 - accuracy: 0.6942\n",
            "Epoch 21: val_loss improved from 1.24740 to 1.22408, saving model to /tmp/video_classifier\n",
            "9/9 [==============================] - 6s 626ms/step - loss: 1.0585 - accuracy: 0.6942 - val_loss: 1.2241 - val_accuracy: 0.6774\n",
            "Epoch 22/100\n",
            "9/9 [==============================] - ETA: 0s - loss: 1.0263 - accuracy: 0.7230\n",
            "Epoch 22: val_loss improved from 1.22408 to 1.18812, saving model to /tmp/video_classifier\n",
            "9/9 [==============================] - 5s 611ms/step - loss: 1.0263 - accuracy: 0.7230 - val_loss: 1.1881 - val_accuracy: 0.6882\n",
            "Epoch 23/100\n",
            "9/9 [==============================] - ETA: 0s - loss: 0.9867 - accuracy: 0.7266\n",
            "Epoch 23: val_loss improved from 1.18812 to 1.16174, saving model to /tmp/video_classifier\n",
            "9/9 [==============================] - 5s 611ms/step - loss: 0.9867 - accuracy: 0.7266 - val_loss: 1.1617 - val_accuracy: 0.6452\n",
            "Epoch 24/100\n",
            "9/9 [==============================] - ETA: 0s - loss: 0.9635 - accuracy: 0.7194\n",
            "Epoch 24: val_loss did not improve from 1.16174\n",
            "9/9 [==============================] - 5s 607ms/step - loss: 0.9635 - accuracy: 0.7194 - val_loss: 1.2363 - val_accuracy: 0.6452\n",
            "Epoch 25/100\n",
            "9/9 [==============================] - ETA: 0s - loss: 0.9435 - accuracy: 0.7158\n",
            "Epoch 25: val_loss did not improve from 1.16174\n",
            "9/9 [==============================] - 5s 604ms/step - loss: 0.9435 - accuracy: 0.7158 - val_loss: 1.1664 - val_accuracy: 0.6882\n",
            "Epoch 26/100\n",
            "9/9 [==============================] - ETA: 0s - loss: 0.9459 - accuracy: 0.7302\n",
            "Epoch 26: val_loss improved from 1.16174 to 1.14669, saving model to /tmp/video_classifier\n",
            "9/9 [==============================] - 5s 605ms/step - loss: 0.9459 - accuracy: 0.7302 - val_loss: 1.1467 - val_accuracy: 0.6774\n",
            "Epoch 27/100\n",
            "9/9 [==============================] - ETA: 0s - loss: 0.9101 - accuracy: 0.7482\n",
            "Epoch 27: val_loss improved from 1.14669 to 1.11639, saving model to /tmp/video_classifier\n",
            "9/9 [==============================] - 5s 606ms/step - loss: 0.9101 - accuracy: 0.7482 - val_loss: 1.1164 - val_accuracy: 0.6989\n",
            "Epoch 28/100\n",
            "9/9 [==============================] - ETA: 0s - loss: 0.9126 - accuracy: 0.7122\n",
            "Epoch 28: val_loss improved from 1.11639 to 1.08977, saving model to /tmp/video_classifier\n",
            "9/9 [==============================] - 6s 615ms/step - loss: 0.9126 - accuracy: 0.7122 - val_loss: 1.0898 - val_accuracy: 0.7312\n",
            "Epoch 29/100\n",
            "9/9 [==============================] - ETA: 0s - loss: 0.8450 - accuracy: 0.7662\n",
            "Epoch 29: val_loss improved from 1.08977 to 1.06670, saving model to /tmp/video_classifier\n",
            "9/9 [==============================] - 5s 606ms/step - loss: 0.8450 - accuracy: 0.7662 - val_loss: 1.0667 - val_accuracy: 0.7419\n",
            "Epoch 30/100\n",
            "9/9 [==============================] - ETA: 0s - loss: 0.8075 - accuracy: 0.8129\n",
            "Epoch 30: val_loss did not improve from 1.06670\n",
            "9/9 [==============================] - 5s 607ms/step - loss: 0.8075 - accuracy: 0.8129 - val_loss: 1.1277 - val_accuracy: 0.7204\n",
            "Epoch 31/100\n",
            "9/9 [==============================] - ETA: 0s - loss: 0.7729 - accuracy: 0.8417\n",
            "Epoch 31: val_loss did not improve from 1.06670\n",
            "9/9 [==============================] - 5s 610ms/step - loss: 0.7729 - accuracy: 0.8417 - val_loss: 1.0685 - val_accuracy: 0.7634\n",
            "Epoch 32/100\n",
            "9/9 [==============================] - ETA: 0s - loss: 0.7651 - accuracy: 0.8309\n",
            "Epoch 32: val_loss improved from 1.06670 to 1.04368, saving model to /tmp/video_classifier\n",
            "9/9 [==============================] - 5s 613ms/step - loss: 0.7651 - accuracy: 0.8309 - val_loss: 1.0437 - val_accuracy: 0.7849\n",
            "Epoch 33/100\n",
            "9/9 [==============================] - ETA: 0s - loss: 0.7386 - accuracy: 0.8417\n",
            "Epoch 33: val_loss did not improve from 1.04368\n",
            "9/9 [==============================] - 5s 610ms/step - loss: 0.7386 - accuracy: 0.8417 - val_loss: 1.0719 - val_accuracy: 0.7742\n",
            "Epoch 34/100\n",
            "9/9 [==============================] - ETA: 0s - loss: 0.7331 - accuracy: 0.8453\n",
            "Epoch 34: val_loss improved from 1.04368 to 1.01885, saving model to /tmp/video_classifier\n",
            "9/9 [==============================] - 6s 616ms/step - loss: 0.7331 - accuracy: 0.8453 - val_loss: 1.0188 - val_accuracy: 0.7419\n",
            "Epoch 35/100\n",
            "9/9 [==============================] - ETA: 0s - loss: 0.6776 - accuracy: 0.7842\n",
            "Epoch 35: val_loss did not improve from 1.01885\n",
            "9/9 [==============================] - 5s 611ms/step - loss: 0.6776 - accuracy: 0.7842 - val_loss: 1.0420 - val_accuracy: 0.6237\n",
            "Epoch 36/100\n",
            "9/9 [==============================] - ETA: 0s - loss: 0.6679 - accuracy: 0.7410\n",
            "Epoch 36: val_loss improved from 1.01885 to 0.98689, saving model to /tmp/video_classifier\n",
            "9/9 [==============================] - 5s 612ms/step - loss: 0.6679 - accuracy: 0.7410 - val_loss: 0.9869 - val_accuracy: 0.6129\n",
            "Epoch 37/100\n",
            "9/9 [==============================] - ETA: 0s - loss: 0.6594 - accuracy: 0.7410\n",
            "Epoch 37: val_loss did not improve from 0.98689\n",
            "9/9 [==============================] - 5s 605ms/step - loss: 0.6594 - accuracy: 0.7410 - val_loss: 0.9926 - val_accuracy: 0.6237\n",
            "Epoch 38/100\n",
            "9/9 [==============================] - ETA: 0s - loss: 0.6514 - accuracy: 0.7302\n",
            "Epoch 38: val_loss improved from 0.98689 to 0.97242, saving model to /tmp/video_classifier\n",
            "9/9 [==============================] - 6s 616ms/step - loss: 0.6514 - accuracy: 0.7302 - val_loss: 0.9724 - val_accuracy: 0.5914\n",
            "Epoch 39/100\n",
            "9/9 [==============================] - ETA: 0s - loss: 0.6360 - accuracy: 0.7446\n",
            "Epoch 39: val_loss improved from 0.97242 to 0.92638, saving model to /tmp/video_classifier\n",
            "9/9 [==============================] - 5s 611ms/step - loss: 0.6360 - accuracy: 0.7446 - val_loss: 0.9264 - val_accuracy: 0.6129\n",
            "Epoch 40/100\n",
            "9/9 [==============================] - ETA: 0s - loss: 0.6101 - accuracy: 0.7554\n",
            "Epoch 40: val_loss did not improve from 0.92638\n",
            "9/9 [==============================] - 5s 609ms/step - loss: 0.6101 - accuracy: 0.7554 - val_loss: 0.9875 - val_accuracy: 0.6022\n",
            "Epoch 41/100\n",
            "9/9 [==============================] - ETA: 0s - loss: 0.5773 - accuracy: 0.7770\n",
            "Epoch 41: val_loss improved from 0.92638 to 0.89962, saving model to /tmp/video_classifier\n",
            "9/9 [==============================] - 5s 611ms/step - loss: 0.5773 - accuracy: 0.7770 - val_loss: 0.8996 - val_accuracy: 0.6129\n",
            "Epoch 42/100\n",
            "9/9 [==============================] - ETA: 0s - loss: 0.5756 - accuracy: 0.7626\n",
            "Epoch 42: val_loss improved from 0.89962 to 0.88738, saving model to /tmp/video_classifier\n",
            "9/9 [==============================] - 6s 616ms/step - loss: 0.5756 - accuracy: 0.7626 - val_loss: 0.8874 - val_accuracy: 0.6237\n",
            "Epoch 43/100\n",
            "9/9 [==============================] - ETA: 0s - loss: 0.5430 - accuracy: 0.7698\n",
            "Epoch 43: val_loss did not improve from 0.88738\n",
            "9/9 [==============================] - 5s 606ms/step - loss: 0.5430 - accuracy: 0.7698 - val_loss: 0.8931 - val_accuracy: 0.6129\n",
            "Epoch 44/100\n",
            "9/9 [==============================] - ETA: 0s - loss: 0.5366 - accuracy: 0.7770\n",
            "Epoch 44: val_loss did not improve from 0.88738\n",
            "9/9 [==============================] - 5s 605ms/step - loss: 0.5366 - accuracy: 0.7770 - val_loss: 0.9235 - val_accuracy: 0.6129\n",
            "Epoch 45/100\n",
            "9/9 [==============================] - ETA: 0s - loss: 0.5248 - accuracy: 0.7770\n",
            "Epoch 45: val_loss did not improve from 0.88738\n",
            "9/9 [==============================] - 5s 611ms/step - loss: 0.5248 - accuracy: 0.7770 - val_loss: 0.8970 - val_accuracy: 0.6344\n",
            "Epoch 46/100\n",
            "9/9 [==============================] - ETA: 0s - loss: 0.5261 - accuracy: 0.7770\n",
            "Epoch 46: val_loss improved from 0.88738 to 0.86617, saving model to /tmp/video_classifier\n",
            "9/9 [==============================] - 5s 612ms/step - loss: 0.5261 - accuracy: 0.7770 - val_loss: 0.8662 - val_accuracy: 0.6559\n",
            "Epoch 47/100\n",
            "9/9 [==============================] - ETA: 0s - loss: 0.5288 - accuracy: 0.7770\n",
            "Epoch 47: val_loss improved from 0.86617 to 0.85506, saving model to /tmp/video_classifier\n",
            "9/9 [==============================] - 5s 616ms/step - loss: 0.5288 - accuracy: 0.7770 - val_loss: 0.8551 - val_accuracy: 0.6344\n",
            "Epoch 48/100\n",
            "9/9 [==============================] - ETA: 0s - loss: 0.5143 - accuracy: 0.7698\n",
            "Epoch 48: val_loss did not improve from 0.85506\n",
            "9/9 [==============================] - 6s 615ms/step - loss: 0.5143 - accuracy: 0.7698 - val_loss: 0.8582 - val_accuracy: 0.6344\n",
            "Epoch 49/100\n",
            "9/9 [==============================] - ETA: 0s - loss: 0.4836 - accuracy: 0.7770\n",
            "Epoch 49: val_loss did not improve from 0.85506\n",
            "9/9 [==============================] - 5s 611ms/step - loss: 0.4836 - accuracy: 0.7770 - val_loss: 0.8771 - val_accuracy: 0.6344\n",
            "Epoch 50/100\n",
            "9/9 [==============================] - ETA: 0s - loss: 0.4837 - accuracy: 0.8345\n",
            "Epoch 50: val_loss did not improve from 0.85506\n",
            "9/9 [==============================] - 5s 607ms/step - loss: 0.4837 - accuracy: 0.8345 - val_loss: 0.8960 - val_accuracy: 0.7957\n",
            "Epoch 51/100\n",
            "9/9 [==============================] - ETA: 0s - loss: 0.4883 - accuracy: 0.9029\n",
            "Epoch 51: val_loss did not improve from 0.85506\n",
            "9/9 [==============================] - 5s 606ms/step - loss: 0.4883 - accuracy: 0.9029 - val_loss: 0.8978 - val_accuracy: 0.7742\n",
            "Epoch 52/100\n",
            "9/9 [==============================] - ETA: 0s - loss: 0.4815 - accuracy: 0.8993\n",
            "Epoch 52: val_loss did not improve from 0.85506\n",
            "9/9 [==============================] - 5s 607ms/step - loss: 0.4815 - accuracy: 0.8993 - val_loss: 0.9396 - val_accuracy: 0.7849\n",
            "Epoch 53/100\n",
            "9/9 [==============================] - ETA: 0s - loss: 0.4814 - accuracy: 0.8957\n",
            "Epoch 53: val_loss did not improve from 0.85506\n",
            "9/9 [==============================] - 5s 612ms/step - loss: 0.4814 - accuracy: 0.8957 - val_loss: 0.8756 - val_accuracy: 0.8172\n",
            "Epoch 54/100\n",
            "9/9 [==============================] - ETA: 0s - loss: 0.4664 - accuracy: 0.9029\n",
            "Epoch 54: val_loss did not improve from 0.85506\n",
            "9/9 [==============================] - 6s 617ms/step - loss: 0.4664 - accuracy: 0.9029 - val_loss: 0.8983 - val_accuracy: 0.7957\n",
            "Epoch 55/100\n",
            "9/9 [==============================] - ETA: 0s - loss: 0.4719 - accuracy: 0.9029\n",
            "Epoch 55: val_loss did not improve from 0.85506\n",
            "9/9 [==============================] - 6s 615ms/step - loss: 0.4719 - accuracy: 0.9029 - val_loss: 0.8774 - val_accuracy: 0.8172\n",
            "Epoch 56/100\n",
            "9/9 [==============================] - ETA: 0s - loss: 0.4826 - accuracy: 0.8921\n",
            "Epoch 56: val_loss did not improve from 0.85506\n",
            "9/9 [==============================] - 5s 606ms/step - loss: 0.4826 - accuracy: 0.8921 - val_loss: 0.9009 - val_accuracy: 0.8065\n",
            "Epoch 57/100\n",
            "9/9 [==============================] - ETA: 0s - loss: 0.4634 - accuracy: 0.8993\n",
            "Epoch 57: val_loss did not improve from 0.85506\n",
            "9/9 [==============================] - 5s 606ms/step - loss: 0.4634 - accuracy: 0.8993 - val_loss: 0.9288 - val_accuracy: 0.7634\n",
            "Epoch 58/100\n",
            "9/9 [==============================] - ETA: 0s - loss: 0.4413 - accuracy: 0.9101\n",
            "Epoch 58: val_loss improved from 0.85506 to 0.84966, saving model to /tmp/video_classifier\n",
            "9/9 [==============================] - 6s 615ms/step - loss: 0.4413 - accuracy: 0.9101 - val_loss: 0.8497 - val_accuracy: 0.8172\n",
            "Epoch 59/100\n",
            "9/9 [==============================] - ETA: 0s - loss: 0.4427 - accuracy: 0.9029\n",
            "Epoch 59: val_loss did not improve from 0.84966\n",
            "9/9 [==============================] - 5s 608ms/step - loss: 0.4427 - accuracy: 0.9029 - val_loss: 0.9194 - val_accuracy: 0.7849\n",
            "Epoch 60/100\n",
            "9/9 [==============================] - ETA: 0s - loss: 0.4641 - accuracy: 0.8993\n",
            "Epoch 60: val_loss did not improve from 0.84966\n",
            "9/9 [==============================] - 5s 613ms/step - loss: 0.4641 - accuracy: 0.8993 - val_loss: 0.9370 - val_accuracy: 0.7957\n",
            "Epoch 61/100\n",
            "9/9 [==============================] - ETA: 0s - loss: 0.4465 - accuracy: 0.8993\n",
            "Epoch 61: val_loss did not improve from 0.84966\n",
            "9/9 [==============================] - 5s 608ms/step - loss: 0.4465 - accuracy: 0.8993 - val_loss: 0.9812 - val_accuracy: 0.7742\n",
            "Epoch 62/100\n",
            "9/9 [==============================] - ETA: 0s - loss: 0.4400 - accuracy: 0.9029\n",
            "Epoch 62: val_loss did not improve from 0.84966\n",
            "9/9 [==============================] - 5s 604ms/step - loss: 0.4400 - accuracy: 0.9029 - val_loss: 0.9082 - val_accuracy: 0.7849\n",
            "Epoch 63/100\n",
            "9/9 [==============================] - ETA: 0s - loss: 0.4307 - accuracy: 0.9065\n",
            "Epoch 63: val_loss did not improve from 0.84966\n",
            "9/9 [==============================] - 5s 612ms/step - loss: 0.4307 - accuracy: 0.9065 - val_loss: 0.9440 - val_accuracy: 0.7957\n",
            "Epoch 64/100\n",
            "9/9 [==============================] - ETA: 0s - loss: 0.5066 - accuracy: 0.8849\n",
            "Epoch 64: val_loss did not improve from 0.84966\n",
            "9/9 [==============================] - 5s 602ms/step - loss: 0.5066 - accuracy: 0.8849 - val_loss: 1.0726 - val_accuracy: 0.7312\n",
            "Epoch 65/100\n",
            "9/9 [==============================] - ETA: 0s - loss: 0.4784 - accuracy: 0.8849\n",
            "Epoch 65: val_loss did not improve from 0.84966\n",
            "9/9 [==============================] - 5s 606ms/step - loss: 0.4784 - accuracy: 0.8849 - val_loss: 1.2047 - val_accuracy: 0.7742\n",
            "Epoch 66/100\n",
            "9/9 [==============================] - ETA: 0s - loss: 0.4835 - accuracy: 0.8849\n",
            "Epoch 66: val_loss did not improve from 0.84966\n",
            "9/9 [==============================] - 5s 607ms/step - loss: 0.4835 - accuracy: 0.8849 - val_loss: 1.6222 - val_accuracy: 0.6989\n",
            "Epoch 67/100\n",
            "9/9 [==============================] - ETA: 0s - loss: 0.6418 - accuracy: 0.8417\n",
            "Epoch 67: val_loss did not improve from 0.84966\n",
            "9/9 [==============================] - 5s 606ms/step - loss: 0.6418 - accuracy: 0.8417 - val_loss: 1.3029 - val_accuracy: 0.6237\n",
            "Epoch 68/100\n",
            "9/9 [==============================] - ETA: 0s - loss: 0.6709 - accuracy: 0.8201\n",
            "Epoch 68: val_loss did not improve from 0.84966\n",
            "9/9 [==============================] - 5s 609ms/step - loss: 0.6709 - accuracy: 0.8201 - val_loss: 1.1963 - val_accuracy: 0.7312\n",
            "Epoch 69/100\n",
            "9/9 [==============================] - ETA: 0s - loss: 0.5638 - accuracy: 0.8561\n",
            "Epoch 69: val_loss did not improve from 0.84966\n",
            "9/9 [==============================] - 5s 610ms/step - loss: 0.5638 - accuracy: 0.8561 - val_loss: 1.1118 - val_accuracy: 0.7312\n",
            "Epoch 70/100\n",
            "9/9 [==============================] - ETA: 0s - loss: 0.6258 - accuracy: 0.8381\n",
            "Epoch 70: val_loss did not improve from 0.84966\n",
            "9/9 [==============================] - 5s 609ms/step - loss: 0.6258 - accuracy: 0.8381 - val_loss: 1.2464 - val_accuracy: 0.7097\n",
            "Epoch 71/100\n",
            "9/9 [==============================] - ETA: 0s - loss: 0.4979 - accuracy: 0.8813\n",
            "Epoch 71: val_loss did not improve from 0.84966\n",
            "9/9 [==============================] - 5s 611ms/step - loss: 0.4979 - accuracy: 0.8813 - val_loss: 1.2081 - val_accuracy: 0.7527\n",
            "Epoch 72/100\n",
            "9/9 [==============================] - ETA: 0s - loss: 0.4879 - accuracy: 0.8705\n",
            "Epoch 72: val_loss did not improve from 0.84966\n",
            "9/9 [==============================] - 6s 613ms/step - loss: 0.4879 - accuracy: 0.8705 - val_loss: 0.9820 - val_accuracy: 0.7849\n",
            "Epoch 73/100\n",
            "9/9 [==============================] - ETA: 0s - loss: 0.4213 - accuracy: 0.8993\n",
            "Epoch 73: val_loss did not improve from 0.84966\n",
            "9/9 [==============================] - 5s 607ms/step - loss: 0.4213 - accuracy: 0.8993 - val_loss: 1.0277 - val_accuracy: 0.7634\n",
            "Epoch 74/100\n",
            "9/9 [==============================] - ETA: 0s - loss: 0.4433 - accuracy: 0.8921\n",
            "Epoch 74: val_loss did not improve from 0.84966\n",
            "9/9 [==============================] - 5s 605ms/step - loss: 0.4433 - accuracy: 0.8921 - val_loss: 0.9181 - val_accuracy: 0.8065\n",
            "Epoch 75/100\n",
            "9/9 [==============================] - ETA: 0s - loss: 0.4076 - accuracy: 0.9029\n",
            "Epoch 75: val_loss improved from 0.84966 to 0.84307, saving model to /tmp/video_classifier\n",
            "9/9 [==============================] - 5s 609ms/step - loss: 0.4076 - accuracy: 0.9029 - val_loss: 0.8431 - val_accuracy: 0.8172\n",
            "Epoch 76/100\n",
            "9/9 [==============================] - ETA: 0s - loss: 0.3913 - accuracy: 0.9029\n",
            "Epoch 76: val_loss did not improve from 0.84307\n",
            "9/9 [==============================] - 6s 614ms/step - loss: 0.3913 - accuracy: 0.9029 - val_loss: 0.8573 - val_accuracy: 0.8172\n",
            "Epoch 77/100\n",
            "9/9 [==============================] - ETA: 0s - loss: 0.3969 - accuracy: 0.9137\n",
            "Epoch 77: val_loss did not improve from 0.84307\n",
            "9/9 [==============================] - 6s 619ms/step - loss: 0.3969 - accuracy: 0.9137 - val_loss: 0.9190 - val_accuracy: 0.8280\n",
            "Epoch 78/100\n",
            "9/9 [==============================] - ETA: 0s - loss: 0.3832 - accuracy: 0.9101\n",
            "Epoch 78: val_loss did not improve from 0.84307\n",
            "9/9 [==============================] - 6s 614ms/step - loss: 0.3832 - accuracy: 0.9101 - val_loss: 0.9027 - val_accuracy: 0.8065\n",
            "Epoch 79/100\n",
            "9/9 [==============================] - ETA: 0s - loss: 0.3924 - accuracy: 0.9101\n",
            "Epoch 79: val_loss did not improve from 0.84307\n",
            "9/9 [==============================] - 5s 610ms/step - loss: 0.3924 - accuracy: 0.9101 - val_loss: 0.9315 - val_accuracy: 0.7957\n",
            "Epoch 80/100\n",
            "9/9 [==============================] - ETA: 0s - loss: 0.3612 - accuracy: 0.9173\n",
            "Epoch 80: val_loss did not improve from 0.84307\n",
            "9/9 [==============================] - 5s 605ms/step - loss: 0.3612 - accuracy: 0.9173 - val_loss: 0.8905 - val_accuracy: 0.8172\n",
            "Epoch 81/100\n",
            "9/9 [==============================] - ETA: 0s - loss: 0.3636 - accuracy: 0.9173\n",
            "Epoch 81: val_loss did not improve from 0.84307\n",
            "9/9 [==============================] - 5s 610ms/step - loss: 0.3636 - accuracy: 0.9173 - val_loss: 0.9276 - val_accuracy: 0.8172\n",
            "Epoch 82/100\n",
            "9/9 [==============================] - ETA: 0s - loss: 0.3682 - accuracy: 0.9137\n",
            "Epoch 82: val_loss did not improve from 0.84307\n",
            "9/9 [==============================] - 5s 601ms/step - loss: 0.3682 - accuracy: 0.9137 - val_loss: 0.9238 - val_accuracy: 0.8172\n",
            "Epoch 83/100\n",
            "9/9 [==============================] - ETA: 0s - loss: 0.3447 - accuracy: 0.9173\n",
            "Epoch 83: val_loss did not improve from 0.84307\n",
            "9/9 [==============================] - 5s 607ms/step - loss: 0.3447 - accuracy: 0.9173 - val_loss: 0.8537 - val_accuracy: 0.8387\n",
            "Epoch 84/100\n",
            "9/9 [==============================] - ETA: 0s - loss: 0.3654 - accuracy: 0.9101\n",
            "Epoch 84: val_loss did not improve from 0.84307\n",
            "9/9 [==============================] - 5s 603ms/step - loss: 0.3654 - accuracy: 0.9101 - val_loss: 0.8565 - val_accuracy: 0.8280\n",
            "Epoch 85/100\n",
            "9/9 [==============================] - ETA: 0s - loss: 0.3399 - accuracy: 0.9281\n",
            "Epoch 85: val_loss did not improve from 0.84307\n",
            "9/9 [==============================] - 6s 616ms/step - loss: 0.3399 - accuracy: 0.9281 - val_loss: 0.8917 - val_accuracy: 0.8172\n",
            "Epoch 86/100\n",
            "9/9 [==============================] - ETA: 0s - loss: 0.3571 - accuracy: 0.9065\n",
            "Epoch 86: val_loss did not improve from 0.84307\n",
            "9/9 [==============================] - 5s 608ms/step - loss: 0.3571 - accuracy: 0.9065 - val_loss: 0.9902 - val_accuracy: 0.7742\n",
            "Epoch 87/100\n",
            "9/9 [==============================] - ETA: 0s - loss: 0.3673 - accuracy: 0.8993\n",
            "Epoch 87: val_loss did not improve from 0.84307\n",
            "9/9 [==============================] - 5s 614ms/step - loss: 0.3673 - accuracy: 0.8993 - val_loss: 0.9447 - val_accuracy: 0.7742\n",
            "Epoch 88/100\n",
            "9/9 [==============================] - ETA: 0s - loss: 0.3665 - accuracy: 0.9137\n",
            "Epoch 88: val_loss did not improve from 0.84307\n",
            "9/9 [==============================] - 5s 608ms/step - loss: 0.3665 - accuracy: 0.9137 - val_loss: 0.9682 - val_accuracy: 0.7742\n",
            "Epoch 89/100\n",
            "9/9 [==============================] - ETA: 0s - loss: 0.3518 - accuracy: 0.9137\n",
            "Epoch 89: val_loss did not improve from 0.84307\n",
            "9/9 [==============================] - 6s 617ms/step - loss: 0.3518 - accuracy: 0.9137 - val_loss: 0.9618 - val_accuracy: 0.8065\n",
            "Epoch 90/100\n",
            "9/9 [==============================] - ETA: 0s - loss: 0.3310 - accuracy: 0.9209\n",
            "Epoch 90: val_loss did not improve from 0.84307\n",
            "9/9 [==============================] - 5s 605ms/step - loss: 0.3310 - accuracy: 0.9209 - val_loss: 0.9748 - val_accuracy: 0.7957\n",
            "Epoch 91/100\n",
            "9/9 [==============================] - ETA: 0s - loss: 0.3440 - accuracy: 0.9209\n",
            "Epoch 91: val_loss did not improve from 0.84307\n",
            "9/9 [==============================] - 6s 615ms/step - loss: 0.3440 - accuracy: 0.9209 - val_loss: 0.9956 - val_accuracy: 0.8172\n",
            "Epoch 92/100\n",
            "9/9 [==============================] - ETA: 0s - loss: 0.3325 - accuracy: 0.9173\n",
            "Epoch 92: val_loss did not improve from 0.84307\n",
            "9/9 [==============================] - 5s 606ms/step - loss: 0.3325 - accuracy: 0.9173 - val_loss: 0.9335 - val_accuracy: 0.8172\n",
            "Epoch 93/100\n",
            "9/9 [==============================] - ETA: 0s - loss: 0.3346 - accuracy: 0.9173\n",
            "Epoch 93: val_loss did not improve from 0.84307\n",
            "9/9 [==============================] - 5s 608ms/step - loss: 0.3346 - accuracy: 0.9173 - val_loss: 0.8720 - val_accuracy: 0.8172\n",
            "Epoch 94/100\n",
            "9/9 [==============================] - ETA: 0s - loss: 0.3102 - accuracy: 0.9245\n",
            "Epoch 94: val_loss did not improve from 0.84307\n",
            "9/9 [==============================] - 5s 606ms/step - loss: 0.3102 - accuracy: 0.9245 - val_loss: 0.8834 - val_accuracy: 0.8280\n",
            "Epoch 95/100\n",
            "9/9 [==============================] - ETA: 0s - loss: 0.3160 - accuracy: 0.9281\n",
            "Epoch 95: val_loss did not improve from 0.84307\n",
            "9/9 [==============================] - 5s 608ms/step - loss: 0.3160 - accuracy: 0.9281 - val_loss: 0.8648 - val_accuracy: 0.8280\n",
            "Epoch 96/100\n",
            "9/9 [==============================] - ETA: 0s - loss: 0.3266 - accuracy: 0.9173\n",
            "Epoch 96: val_loss improved from 0.84307 to 0.83755, saving model to /tmp/video_classifier\n",
            "9/9 [==============================] - 5s 611ms/step - loss: 0.3266 - accuracy: 0.9173 - val_loss: 0.8376 - val_accuracy: 0.8495\n",
            "Epoch 97/100\n",
            "9/9 [==============================] - ETA: 0s - loss: 0.3201 - accuracy: 0.9137\n",
            "Epoch 97: val_loss did not improve from 0.83755\n",
            "9/9 [==============================] - 5s 606ms/step - loss: 0.3201 - accuracy: 0.9137 - val_loss: 0.8609 - val_accuracy: 0.8172\n",
            "Epoch 98/100\n",
            "9/9 [==============================] - ETA: 0s - loss: 0.3272 - accuracy: 0.9209\n",
            "Epoch 98: val_loss did not improve from 0.83755\n",
            "9/9 [==============================] - 5s 610ms/step - loss: 0.3272 - accuracy: 0.9209 - val_loss: 0.9289 - val_accuracy: 0.7957\n",
            "Epoch 99/100\n",
            "9/9 [==============================] - ETA: 0s - loss: 0.3066 - accuracy: 0.9245\n",
            "Epoch 99: val_loss did not improve from 0.83755\n",
            "9/9 [==============================] - 5s 605ms/step - loss: 0.3066 - accuracy: 0.9245 - val_loss: 0.9183 - val_accuracy: 0.8172\n",
            "Epoch 100/100\n",
            "9/9 [==============================] - ETA: 0s - loss: 0.3122 - accuracy: 0.9173\n",
            "Epoch 100: val_loss did not improve from 0.83755\n",
            "9/9 [==============================] - 5s 607ms/step - loss: 0.3122 - accuracy: 0.9173 - val_loss: 0.8887 - val_accuracy: 0.8280\n"
          ]
        }
      ],
      "source": [
        "# Utility for running experiments.\n",
        "\n",
        "filepath = \"/tmp/video_classifier\"\n",
        "checkpoint = keras.callbacks.ModelCheckpoint(\n",
        "    filepath, save_weights_only=True, save_best_only=True, verbose=1\n",
        "    )\n",
        "seq_model = get_sequence_model()\n",
        "\n",
        "history = seq_model.fit(\n",
        "    [train_data[0], train_data[1]],\n",
        "    train_labels,\n",
        "    validation_split=0.25,\n",
        "    epochs=100,\n",
        "    callbacks=[checkpoint],\n",
        "    )\n",
        "#_, sequence_model = run_experiment()"
      ]
    },
    {
      "cell_type": "code",
      "execution_count": null,
      "metadata": {
        "colab": {
          "base_uri": "https://localhost:8080/"
        },
        "id": "8_FINXhC7Wbn",
        "outputId": "d8e6c624-f55a-4388-9568-11573331fdad"
      },
      "outputs": [
        {
          "output_type": "execute_result",
          "data": {
            "text/plain": [
              "<tensorflow.python.training.tracking.util.CheckpointLoadStatus at 0x7faef153f450>"
            ]
          },
          "metadata": {},
          "execution_count": 50
        }
      ],
      "source": [
        "seq_model.load_weights(filepath)"
      ]
    },
    {
      "cell_type": "code",
      "execution_count": null,
      "metadata": {
        "colab": {
          "base_uri": "https://localhost:8080/"
        },
        "id": "ULUrIi3Eo-K5",
        "outputId": "a44c9f07-79af-4567-8cba-dcecef549204"
      },
      "outputs": [
        {
          "output_type": "stream",
          "name": "stdout",
          "text": [
            "Training accuracy:  91.72661900520325\n",
            "Training Loss:  0.3122444748878479\n",
            "-----------------------------------------\n",
            "Validation accuracy:  82.79569745063782\n",
            "Validation Loss:  0.8887086510658264\n",
            "-----------------------------------------\n",
            "\n",
            "3/3 [==============================] - 0s 55ms/step - loss: 0.8007 - accuracy: 0.7742\n",
            "Test accuracy: 77.42%\n"
          ]
        }
      ],
      "source": [
        "print(\"Training accuracy: \", history.history['accuracy'][-1]*100)\n",
        "print(\"Training Loss: \", history.history['loss'][-1])\n",
        "print(\"-----------------------------------------\")\n",
        "print(\"Validation accuracy: \", history.history['val_accuracy'][-1]*100)\n",
        "print(\"Validation Loss: \", history.history['val_loss'][-1])\n",
        "print(\"-----------------------------------------\\n\")\n",
        "_, accuracy = seq_model.evaluate([test_data[0], test_data[1]], test_labels);\n",
        "print(f\"Test accuracy: {round(accuracy * 100, 2)}%\")"
      ]
    },
    {
      "cell_type": "code",
      "execution_count": null,
      "metadata": {
        "colab": {
          "base_uri": "https://localhost:8080/",
          "height": 297
        },
        "id": "N3Zb69Pym0B2",
        "outputId": "01c542a0-1892-4166-9a05-15aa029b5cd8"
      },
      "outputs": [
        {
          "output_type": "display_data",
          "data": {
            "text/plain": [
              "<Figure size 432x288 with 2 Axes>"
            ],
            "image/png": "[encoded data removed]"
          },
          "metadata": {
            "needs_background": "light"
          }
        }
      ],
      "source": [
        "plt.figure(1)\n",
        "\n",
        "# summarize history for accuracy\n",
        "\n",
        "plt.subplot(211)\n",
        "plt.plot(history.history['accuracy'])\n",
        "plt.plot(history.history['val_accuracy'])\n",
        "plt.title('Model Accuracy')\n",
        "plt.ylabel('Accuracy')\n",
        "plt.xlabel('Epoch')\n",
        "plt.legend(['Training', 'Validation'], loc='lower right')\n",
        "\n",
        "# summarize history for loss\n",
        "\n",
        "plt.subplot(212)\n",
        "plt.plot(history.history['loss'])\n",
        "plt.plot(history.history['val_loss'])\n",
        "plt.title('Model Loss')\n",
        "plt.ylabel('Loss')\n",
        "plt.xlabel('Epoch')\n",
        "plt.legend(['Training', 'Validation'], loc='upper right')\n",
        "\n",
        "plt.tight_layout()\n",
        "\n",
        "plt.show()"
      ]
    },
    {
      "cell_type": "markdown",
      "metadata": {
        "id": "WXpoJcR-adzN"
      },
      "source": [
        "save the trained model"
      ]
    },
    {
      "cell_type": "code",
      "execution_count": null,
      "metadata": {
        "id": "Es6jzD1xx7vh"
      },
      "outputs": [],
      "source": [
        "sequence_model = seq_model"
      ]
    },
    {
      "cell_type": "code",
      "execution_count": null,
      "metadata": {
        "colab": {
          "base_uri": "https://localhost:8080/"
        },
        "id": "OvC7vcZECcQE",
        "outputId": "27ef3b25-ae88-4841-8726-236a60bf7260"
      },
      "outputs": [
        {
          "output_type": "stream",
          "name": "stderr",
          "text": [
            "WARNING:absl:Found untraced functions such as gru_cell_4_layer_call_fn, gru_cell_4_layer_call_and_return_conditional_losses, gru_cell_5_layer_call_fn, gru_cell_5_layer_call_and_return_conditional_losses while saving (showing 4 of 4). These functions will not be directly callable after loading.\n"
          ]
        },
        {
          "output_type": "stream",
          "name": "stdout",
          "text": [
            "INFO:tensorflow:Assets written to: /content/saved_model/assets\n"
          ]
        },
        {
          "output_type": "stream",
          "name": "stderr",
          "text": [
            "INFO:tensorflow:Assets written to: /content/saved_model/assets\n",
            "WARNING:absl:<keras.layers.recurrent.GRUCell object at 0x7faef22c0e50> has the same name 'GRUCell' as a built-in Keras object. Consider renaming <class 'keras.layers.recurrent.GRUCell'> to avoid naming conflicts when loading with `tf.keras.models.load_model`. If renaming is not possible, pass the object in the `custom_objects` parameter of the load function.\n",
            "WARNING:absl:<keras.layers.recurrent.GRUCell object at 0x7fb060061f90> has the same name 'GRUCell' as a built-in Keras object. Consider renaming <class 'keras.layers.recurrent.GRUCell'> to avoid naming conflicts when loading with `tf.keras.models.load_model`. If renaming is not possible, pass the object in the `custom_objects` parameter of the load function.\n"
          ]
        }
      ],
      "source": [
        "sequence_model.save(folder_root+'saved_model')"
      ]
    },
    {
      "cell_type": "markdown",
      "metadata": {
        "id": "XS4B-_igbOgg"
      },
      "source": [
        "load the saved model\n"
      ]
    },
    {
      "cell_type": "code",
      "execution_count": null,
      "metadata": {
        "id": "jiY7v2Z9XEJB"
      },
      "outputs": [],
      "source": [
        "sequence_model = keras.models.load_model(folder_root+'saved_model')\n",
        "\n",
        "#sequence_model = keras.models.load_model('inceptionv3.tflite')"
      ]
    },
    {
      "cell_type": "markdown",
      "metadata": {
        "id": "ol6h1VObbTx4"
      },
      "source": [
        "## Inference code for testing on single video\n"
      ]
    },
    {
      "cell_type": "code",
      "execution_count": null,
      "metadata": {
        "id": "dJP_3J2VwXvA"
      },
      "outputs": [],
      "source": [
        "import imageio\n",
        "from tensorflow_docs.vis import embed\n",
        "\n",
        "def prepare_single_video(path):\n",
        "       # For each video.\n",
        "       frames = load_video(path)\n",
        "       frames = frames[None, ...]\n",
        "       \n",
        "       gc.collect()\n",
        "       # Initialize placeholders to store the masks and features of the current video.\n",
        "       \n",
        "       temp_frame_mask = np.zeros(shape=(1, MAX_SEQ_LENGTH,), dtype=\"bool\")\n",
        "       temp_frame_features = np.zeros(shape=(1, MAX_SEQ_LENGTH, NUM_FEATURES), dtype=\"float32\")\n",
        "       \n",
        "       # Extract features from the frames of the current video.\n",
        "       for i, batch in enumerate(frames):\n",
        "           try:\n",
        "             video_length = batch.shape[1]\n",
        "             length = min(MAX_SEQ_LENGTH, video_length)\n",
        "             for j in range(length):\n",
        "                temp_frame_features[i, j, :] = feature_extractor.predict(batch[None, j, :])\n",
        "             temp_frame_mask[i, :length] = 1  # 1 = not masked, 0 = masked\n",
        "            #  frame_features = temp_frame_features.squeeze()\n",
        "            #  frame_masks = temp_frame_mask.squeeze()\n",
        "           except:\n",
        "             #print(i, j, length)\n",
        "             pass\n",
        "        \n",
        "       return temp_frame_features, temp_frame_mask\n",
        "\n",
        "def sequence_prediction(path):\n",
        "    class_vocab = label_processor.get_vocabulary()\n",
        "\n",
        "    frames = load_video(path)\n",
        "    frame_features, frame_mask = prepare_single_video(path)\n",
        "    probabilities = sequence_model.predict([frame_features, frame_mask])[0]\n",
        "    \n",
        "    v = ['call_the_ambulance','i_am_a_student','i_can_not_speak', 'how_are_you', \"i_don't_understand\", 'extra_class'] # 5 a, 5 b\n",
        "\n",
        "    for i in np.argsort(probabilities)[::-1]: #Add [::-1][:no] for starting fix number samples\n",
        "        print(f\"  {str(v[class_vocab[i].astype(int)])} :{class_vocab[i]}: {probabilities[i] * 100:5.2f}%\")\n",
        "\n",
        "    \n",
        "    return frames\n",
        "\n",
        "\n",
        "def to_gif(images):\n",
        "    converted_images = images.astype(np.uint8)\n",
        "    imageio.mimsave(\"animation.gif\", converted_images, fps=25)\n",
        "    return embed.embed_file(\"animation.gif\")\n"
      ]
    },
    {
      "cell_type": "code",
      "execution_count": null,
      "metadata": {
        "colab": {
          "base_uri": "https://localhost:8080/"
        },
        "id": "YDnkUCzun_5f",
        "outputId": "1a1e7ecd-3778-4fc3-ca62-21dc631e3b32"
      },
      "outputs": [
        {
          "output_type": "stream",
          "name": "stdout",
          "text": [
            "Test video path: /content/gdrive/MyDrive/sign_videos_sample_a_6/call_the_ambulance/call_the_ambulance-1.mp4\n"
          ]
        }
      ],
      "source": [
        "test_video = np.random.choice(test_df[\"path\"].values.tolist())\n",
        "#test_video = '/content/gdrive/MyDrive/sign_videos_sample_a_6/i_can_not_speak/i_can_not_speak-16.mp4'\n",
        "print(f\"Test video path: {test_video}\")\n",
        "test_frames = sequence_prediction(test_video)\n",
        "#to_gif(test_frames[:MAX_SEQ_LENGTH])"
      ]
    }
  ],
  "metadata": {
    "accelerator": "GPU",
    "colab": {
      "collapsed_sections": [],
      "machine_shape": "hm",
      "name": "FYP_Inception_V3_Sign_Video_Recognition.ipynb",
      "provenance": []
    },
    "kernelspec": {
      "display_name": "Python 3",
      "name": "python3"
    },
    "language_info": {
      "name": "python"
    }
  },
  "nbformat": 4,
  "nbformat_minor": 0
}